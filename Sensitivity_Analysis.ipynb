{
  "cells": [
    {
      "attachments": {},
      "cell_type": "markdown",
      "metadata": {
        "colab_type": "text",
        "id": "view-in-github"
      },
      "source": [
        "<a href=\"https://colab.research.google.com/github/vveitch/causality-tutorials/blob/main/Sensitivity_Analysis.ipynb\" target=\"_parent\"><img src=\"https://colab.research.google.com/assets/colab-badge.svg\" alt=\"Open In Colab\"/></a>"
      ]
    },
    {
      "attachments": {},
      "cell_type": "markdown",
      "metadata": {
        "id": "QfZkNLUb4B-p"
      },
      "source": [
        "# Sensitivity Analysis Tutorial\n",
        "\n",
        "This tutorial gives a short example for how to assess sensitivity to unobserved confounding in causal estimation. We use the Austen plot method (https://arxiv.org/abs/2003.01747). "
      ]
    },
    {
      "cell_type": "code",
      "execution_count": 1,
      "metadata": {
        "colab": {
          "base_uri": "https://localhost:8080/"
        },
        "id": "1RrdIBTLQ9Ac",
        "outputId": "62c039df-51d7-4f31-a150-4b6a0e0f0b26"
      },
      "outputs": [
        {
          "name": "stdout",
          "output_type": "stream",
          "text": [
            "Requirement already satisfied: austen-plots in /Users/luca/opt/anaconda3/lib/python3.9/site-packages (0.1.0)\n",
            "Requirement already satisfied: scikit-learn in /Users/luca/opt/anaconda3/lib/python3.9/site-packages (from austen-plots) (1.0.2)\n",
            "Requirement already satisfied: tqdm in /Users/luca/opt/anaconda3/lib/python3.9/site-packages (from austen-plots) (4.64.0)\n",
            "Requirement already satisfied: pandas in /Users/luca/opt/anaconda3/lib/python3.9/site-packages (from austen-plots) (1.5.3)\n",
            "Requirement already satisfied: numpy in /Users/luca/opt/anaconda3/lib/python3.9/site-packages (from austen-plots) (1.24.3)\n",
            "Requirement already satisfied: scipy in /Users/luca/opt/anaconda3/lib/python3.9/site-packages (from austen-plots) (1.10.1)\n",
            "Requirement already satisfied: plotnine in /Users/luca/opt/anaconda3/lib/python3.9/site-packages (from austen-plots) (0.12.1)\n",
            "Requirement already satisfied: python-dateutil>=2.8.1 in /Users/luca/opt/anaconda3/lib/python3.9/site-packages (from pandas->austen-plots) (2.8.2)\n",
            "Requirement already satisfied: pytz>=2020.1 in /Users/luca/opt/anaconda3/lib/python3.9/site-packages (from pandas->austen-plots) (2021.3)\n",
            "Requirement already satisfied: six>=1.5 in /Users/luca/opt/anaconda3/lib/python3.9/site-packages (from python-dateutil>=2.8.1->pandas->austen-plots) (1.16.0)\n",
            "Requirement already satisfied: statsmodels>=0.14.0 in /Users/luca/opt/anaconda3/lib/python3.9/site-packages (from plotnine->austen-plots) (0.14.0)\n",
            "Requirement already satisfied: mizani>=0.9.0 in /Users/luca/opt/anaconda3/lib/python3.9/site-packages (from plotnine->austen-plots) (0.9.2)\n",
            "Requirement already satisfied: matplotlib>=3.6.0 in /Users/luca/opt/anaconda3/lib/python3.9/site-packages (from plotnine->austen-plots) (3.7.2)\n",
            "Requirement already satisfied: patsy>=0.5.1 in /Users/luca/opt/anaconda3/lib/python3.9/site-packages (from plotnine->austen-plots) (0.5.2)\n",
            "Requirement already satisfied: pyparsing<3.1,>=2.3.1 in /Users/luca/opt/anaconda3/lib/python3.9/site-packages (from matplotlib>=3.6.0->plotnine->austen-plots) (3.0.4)\n",
            "Requirement already satisfied: importlib-resources>=3.2.0 in /Users/luca/opt/anaconda3/lib/python3.9/site-packages (from matplotlib>=3.6.0->plotnine->austen-plots) (5.12.0)\n",
            "Requirement already satisfied: kiwisolver>=1.0.1 in /Users/luca/opt/anaconda3/lib/python3.9/site-packages (from matplotlib>=3.6.0->plotnine->austen-plots) (1.3.2)\n",
            "Requirement already satisfied: cycler>=0.10 in /Users/luca/opt/anaconda3/lib/python3.9/site-packages (from matplotlib>=3.6.0->plotnine->austen-plots) (0.11.0)\n",
            "Requirement already satisfied: packaging>=20.0 in /Users/luca/opt/anaconda3/lib/python3.9/site-packages (from matplotlib>=3.6.0->plotnine->austen-plots) (21.3)\n",
            "Requirement already satisfied: fonttools>=4.22.0 in /Users/luca/opt/anaconda3/lib/python3.9/site-packages (from matplotlib>=3.6.0->plotnine->austen-plots) (4.25.0)\n",
            "Requirement already satisfied: pillow>=6.2.0 in /Users/luca/opt/anaconda3/lib/python3.9/site-packages (from matplotlib>=3.6.0->plotnine->austen-plots) (9.0.1)\n",
            "Requirement already satisfied: contourpy>=1.0.1 in /Users/luca/opt/anaconda3/lib/python3.9/site-packages (from matplotlib>=3.6.0->plotnine->austen-plots) (1.1.0)\n",
            "Requirement already satisfied: zipp>=3.1.0 in /Users/luca/opt/anaconda3/lib/python3.9/site-packages (from importlib-resources>=3.2.0->matplotlib>=3.6.0->plotnine->austen-plots) (3.7.0)\n",
            "Requirement already satisfied: threadpoolctl>=2.0.0 in /Users/luca/opt/anaconda3/lib/python3.9/site-packages (from scikit-learn->austen-plots) (2.2.0)\n",
            "Requirement already satisfied: joblib>=0.11 in /Users/luca/opt/anaconda3/lib/python3.9/site-packages (from scikit-learn->austen-plots) (1.1.0)\n"
          ]
        }
      ],
      "source": [
        "!pip install austen-plots"
      ]
    },
    {
      "cell_type": "code",
      "execution_count": 2,
      "metadata": {
        "id": "dS2X3Bq1-fxE"
      },
      "outputs": [],
      "source": [
        "import numpy as np\n",
        "import pandas as pd\n",
        "import scipy as sp\n",
        "from sklearn import preprocessing\n",
        "from sklearn.ensemble import RandomForestClassifier, RandomForestRegressor, GradientBoostingRegressor, GradientBoostingClassifier\n",
        "from sklearn.linear_model import LogisticRegression\n",
        "from sklearn.model_selection import KFold, StratifiedKFold, train_test_split\n",
        "from sklearn.metrics import mean_squared_error, log_loss\n",
        "import sklearn\n",
        "import os\n",
        "import pathlib\n",
        "\n",
        "from austen_plots.AustenPlot import AustenPlot"
      ]
    },
    {
      "cell_type": "code",
      "execution_count": 3,
      "metadata": {
        "id": "zNsGKVyLSRxn"
      },
      "outputs": [],
      "source": [
        "RANDOM_SEED = 42\n",
        "np.random.seed(RANDOM_SEED)"
      ]
    },
    {
      "attachments": {},
      "cell_type": "markdown",
      "metadata": {
        "id": "H0YG8hR8RRAP"
      },
      "source": [
        "# Data Loading and Initial Fit\n",
        "\n",
        "Load the diastolic blood pressure data and fit models for the propensity score and conditional expected outcome model, in the same way we'd do in a standard adjustment-based treatment effect estimation. For this tutorial, we'll use random forests for both models. \n",
        "\n",
        "This section doesn't contain anything special to sensitivity analysis, and can be safely skipped if you've already read the adjustment estimation tutorial."
      ]
    },
    {
      "attachments": {},
      "cell_type": "markdown",
      "metadata": {
        "id": "yPbJeayiEs3u"
      },
      "source": [
        "##Load and Format  Observational Data"
      ]
    },
    {
      "cell_type": "code",
      "execution_count": 4,
      "metadata": {
        "id": "2AC9TPko-hbt"
      },
      "outputs": [],
      "source": [
        "nhanes = pd.read_csv('https://raw.githubusercontent.com/vveitch/causality-tutorials/main/data/hbp_dbp.csv')"
      ]
    },
    {
      "cell_type": "code",
      "execution_count": 5,
      "metadata": {
        "colab": {
          "base_uri": "https://localhost:8080/",
          "height": 223
        },
        "id": "-A1LX6-t-hZD",
        "outputId": "2f9def4f-1348-48d2-d518-b5b5235b6e42"
      },
      "outputs": [
        {
          "data": {
            "text/html": [
              "<div>\n",
              "<style scoped>\n",
              "    .dataframe tbody tr th:only-of-type {\n",
              "        vertical-align: middle;\n",
              "    }\n",
              "\n",
              "    .dataframe tbody tr th {\n",
              "        vertical-align: top;\n",
              "    }\n",
              "\n",
              "    .dataframe thead th {\n",
              "        text-align: right;\n",
              "    }\n",
              "</style>\n",
              "<table border=\"1\" class=\"dataframe\">\n",
              "  <thead>\n",
              "    <tr style=\"text-align: right;\">\n",
              "      <th></th>\n",
              "      <th>white</th>\n",
              "      <th>black</th>\n",
              "      <th>hisp</th>\n",
              "      <th>female</th>\n",
              "      <th>age_mo</th>\n",
              "      <th>hhsize</th>\n",
              "      <th>edu</th>\n",
              "      <th>married</th>\n",
              "      <th>widowed</th>\n",
              "      <th>divorced</th>\n",
              "      <th>...</th>\n",
              "      <th>bmi</th>\n",
              "      <th>pulse</th>\n",
              "      <th>sodium</th>\n",
              "      <th>potassium</th>\n",
              "      <th>r_sodipota</th>\n",
              "      <th>alcohol</th>\n",
              "      <th>insurance</th>\n",
              "      <th>together</th>\n",
              "      <th>ave_dbp</th>\n",
              "      <th>trt_dbp</th>\n",
              "    </tr>\n",
              "  </thead>\n",
              "  <tbody>\n",
              "    <tr>\n",
              "      <th>0</th>\n",
              "      <td>0</td>\n",
              "      <td>0</td>\n",
              "      <td>1</td>\n",
              "      <td>0</td>\n",
              "      <td>261</td>\n",
              "      <td>4</td>\n",
              "      <td>12</td>\n",
              "      <td>0</td>\n",
              "      <td>0</td>\n",
              "      <td>0</td>\n",
              "      <td>...</td>\n",
              "      <td>25.500000</td>\n",
              "      <td>80</td>\n",
              "      <td>5216</td>\n",
              "      <td>4350</td>\n",
              "      <td>1.199080</td>\n",
              "      <td>0</td>\n",
              "      <td>0</td>\n",
              "      <td>24</td>\n",
              "      <td>60</td>\n",
              "      <td>0</td>\n",
              "    </tr>\n",
              "    <tr>\n",
              "      <th>1</th>\n",
              "      <td>1</td>\n",
              "      <td>0</td>\n",
              "      <td>0</td>\n",
              "      <td>0</td>\n",
              "      <td>428</td>\n",
              "      <td>2</td>\n",
              "      <td>17</td>\n",
              "      <td>1</td>\n",
              "      <td>0</td>\n",
              "      <td>0</td>\n",
              "      <td>...</td>\n",
              "      <td>29.400000</td>\n",
              "      <td>72</td>\n",
              "      <td>2668</td>\n",
              "      <td>2387</td>\n",
              "      <td>1.117721</td>\n",
              "      <td>0</td>\n",
              "      <td>1</td>\n",
              "      <td>104</td>\n",
              "      <td>94</td>\n",
              "      <td>0</td>\n",
              "    </tr>\n",
              "    <tr>\n",
              "      <th>2</th>\n",
              "      <td>1</td>\n",
              "      <td>0</td>\n",
              "      <td>0</td>\n",
              "      <td>1</td>\n",
              "      <td>995</td>\n",
              "      <td>1</td>\n",
              "      <td>12</td>\n",
              "      <td>0</td>\n",
              "      <td>1</td>\n",
              "      <td>0</td>\n",
              "      <td>...</td>\n",
              "      <td>19.100000</td>\n",
              "      <td>64</td>\n",
              "      <td>2849</td>\n",
              "      <td>3775</td>\n",
              "      <td>0.754702</td>\n",
              "      <td>0</td>\n",
              "      <td>1</td>\n",
              "      <td>156</td>\n",
              "      <td>70</td>\n",
              "      <td>1</td>\n",
              "    </tr>\n",
              "    <tr>\n",
              "      <th>3</th>\n",
              "      <td>0</td>\n",
              "      <td>0</td>\n",
              "      <td>1</td>\n",
              "      <td>0</td>\n",
              "      <td>531</td>\n",
              "      <td>4</td>\n",
              "      <td>7</td>\n",
              "      <td>1</td>\n",
              "      <td>0</td>\n",
              "      <td>0</td>\n",
              "      <td>...</td>\n",
              "      <td>44.400002</td>\n",
              "      <td>92</td>\n",
              "      <td>3433</td>\n",
              "      <td>2716</td>\n",
              "      <td>1.263991</td>\n",
              "      <td>0</td>\n",
              "      <td>0</td>\n",
              "      <td>52</td>\n",
              "      <td>84</td>\n",
              "      <td>0</td>\n",
              "    </tr>\n",
              "    <tr>\n",
              "      <th>4</th>\n",
              "      <td>0</td>\n",
              "      <td>0</td>\n",
              "      <td>1</td>\n",
              "      <td>0</td>\n",
              "      <td>581</td>\n",
              "      <td>7</td>\n",
              "      <td>0</td>\n",
              "      <td>1</td>\n",
              "      <td>0</td>\n",
              "      <td>0</td>\n",
              "      <td>...</td>\n",
              "      <td>37.500000</td>\n",
              "      <td>68</td>\n",
              "      <td>1808</td>\n",
              "      <td>1883</td>\n",
              "      <td>0.960170</td>\n",
              "      <td>117</td>\n",
              "      <td>1</td>\n",
              "      <td>0</td>\n",
              "      <td>80</td>\n",
              "      <td>0</td>\n",
              "    </tr>\n",
              "  </tbody>\n",
              "</table>\n",
              "<p>5 rows × 23 columns</p>\n",
              "</div>"
            ],
            "text/plain": [
              "   white  black  hisp  female  age_mo  hhsize  edu  married  widowed  \\\n",
              "0      0      0     1       0     261       4   12        0        0   \n",
              "1      1      0     0       0     428       2   17        1        0   \n",
              "2      1      0     0       1     995       1   12        0        1   \n",
              "3      0      0     1       0     531       4    7        1        0   \n",
              "4      0      0     1       0     581       7    0        1        0   \n",
              "\n",
              "   divorced  ...        bmi  pulse  sodium  potassium  r_sodipota  alcohol  \\\n",
              "0         0  ...  25.500000     80    5216       4350    1.199080        0   \n",
              "1         0  ...  29.400000     72    2668       2387    1.117721        0   \n",
              "2         0  ...  19.100000     64    2849       3775    0.754702        0   \n",
              "3         0  ...  44.400002     92    3433       2716    1.263991        0   \n",
              "4         0  ...  37.500000     68    1808       1883    0.960170      117   \n",
              "\n",
              "   insurance  together  ave_dbp  trt_dbp  \n",
              "0          0        24       60        0  \n",
              "1          1       104       94        0  \n",
              "2          1       156       70        1  \n",
              "3          0        52       84        0  \n",
              "4          1         0       80        0  \n",
              "\n",
              "[5 rows x 23 columns]"
            ]
          },
          "execution_count": 5,
          "metadata": {},
          "output_type": "execute_result"
        }
      ],
      "source": [
        "nhanes.head()"
      ]
    },
    {
      "cell_type": "code",
      "execution_count": 6,
      "metadata": {
        "id": "fW3FdK8rJNHM"
      },
      "outputs": [],
      "source": [
        "# scale continuous covariates\n",
        "cont_vars = ['age_mo', 'hhsize', 'edu', 'income', 'packyr', 'bmi',\n",
        "             'pulse', 'sodium', 'potassium', 'r_sodipota', 'alcohol', 'together']\n",
        "nhanes[cont_vars] = preprocessing.scale(nhanes[cont_vars])\n"
      ]
    },
    {
      "cell_type": "code",
      "execution_count": 7,
      "metadata": {
        "id": "APOqpHmrOGzo"
      },
      "outputs": [],
      "source": [
        "confounders = nhanes.drop(columns=['trt_dbp', 'ave_dbp'])\n",
        "outcome = nhanes['ave_dbp']\n",
        "treatment = nhanes['trt_dbp']"
      ]
    },
    {
      "cell_type": "code",
      "execution_count": 8,
      "metadata": {},
      "outputs": [
        {
          "data": {
            "text/html": [
              "<div>\n",
              "<style scoped>\n",
              "    .dataframe tbody tr th:only-of-type {\n",
              "        vertical-align: middle;\n",
              "    }\n",
              "\n",
              "    .dataframe tbody tr th {\n",
              "        vertical-align: top;\n",
              "    }\n",
              "\n",
              "    .dataframe thead th {\n",
              "        text-align: right;\n",
              "    }\n",
              "</style>\n",
              "<table border=\"1\" class=\"dataframe\">\n",
              "  <thead>\n",
              "    <tr style=\"text-align: right;\">\n",
              "      <th></th>\n",
              "      <th>white</th>\n",
              "      <th>black</th>\n",
              "      <th>hisp</th>\n",
              "      <th>female</th>\n",
              "      <th>age_mo</th>\n",
              "      <th>hhsize</th>\n",
              "      <th>edu</th>\n",
              "      <th>married</th>\n",
              "      <th>widowed</th>\n",
              "      <th>divorced</th>\n",
              "      <th>...</th>\n",
              "      <th>income</th>\n",
              "      <th>packyr</th>\n",
              "      <th>bmi</th>\n",
              "      <th>pulse</th>\n",
              "      <th>sodium</th>\n",
              "      <th>potassium</th>\n",
              "      <th>r_sodipota</th>\n",
              "      <th>alcohol</th>\n",
              "      <th>insurance</th>\n",
              "      <th>together</th>\n",
              "    </tr>\n",
              "  </thead>\n",
              "  <tbody>\n",
              "    <tr>\n",
              "      <th>0</th>\n",
              "      <td>0</td>\n",
              "      <td>0</td>\n",
              "      <td>1</td>\n",
              "      <td>0</td>\n",
              "      <td>-1.833047</td>\n",
              "      <td>0.567657</td>\n",
              "      <td>0.342091</td>\n",
              "      <td>0</td>\n",
              "      <td>0</td>\n",
              "      <td>0</td>\n",
              "      <td>...</td>\n",
              "      <td>-0.906882</td>\n",
              "      <td>-0.284587</td>\n",
              "      <td>-0.544672</td>\n",
              "      <td>0.344443</td>\n",
              "      <td>1.135352</td>\n",
              "      <td>1.299198</td>\n",
              "      <td>-0.143503</td>\n",
              "      <td>-0.316033</td>\n",
              "      <td>0</td>\n",
              "      <td>-0.498583</td>\n",
              "    </tr>\n",
              "    <tr>\n",
              "      <th>1</th>\n",
              "      <td>1</td>\n",
              "      <td>0</td>\n",
              "      <td>0</td>\n",
              "      <td>0</td>\n",
              "      <td>-1.095582</td>\n",
              "      <td>-0.511000</td>\n",
              "      <td>1.649039</td>\n",
              "      <td>1</td>\n",
              "      <td>0</td>\n",
              "      <td>0</td>\n",
              "      <td>...</td>\n",
              "      <td>1.219966</td>\n",
              "      <td>-0.284587</td>\n",
              "      <td>0.055435</td>\n",
              "      <td>-0.272906</td>\n",
              "      <td>-0.239260</td>\n",
              "      <td>-0.173543</td>\n",
              "      <td>-0.252051</td>\n",
              "      <td>-0.316033</td>\n",
              "      <td>1</td>\n",
              "      <td>-0.122699</td>\n",
              "    </tr>\n",
              "    <tr>\n",
              "      <th>2</th>\n",
              "      <td>1</td>\n",
              "      <td>0</td>\n",
              "      <td>0</td>\n",
              "      <td>1</td>\n",
              "      <td>1.408268</td>\n",
              "      <td>-1.050328</td>\n",
              "      <td>0.342091</td>\n",
              "      <td>0</td>\n",
              "      <td>1</td>\n",
              "      <td>0</td>\n",
              "      <td>...</td>\n",
              "      <td>-1.881696</td>\n",
              "      <td>-0.284587</td>\n",
              "      <td>-1.529462</td>\n",
              "      <td>-0.890255</td>\n",
              "      <td>-0.141613</td>\n",
              "      <td>0.867804</td>\n",
              "      <td>-0.736382</td>\n",
              "      <td>-0.316033</td>\n",
              "      <td>1</td>\n",
              "      <td>0.121625</td>\n",
              "    </tr>\n",
              "    <tr>\n",
              "      <th>3</th>\n",
              "      <td>0</td>\n",
              "      <td>0</td>\n",
              "      <td>1</td>\n",
              "      <td>0</td>\n",
              "      <td>-0.640738</td>\n",
              "      <td>0.567657</td>\n",
              "      <td>-0.964857</td>\n",
              "      <td>1</td>\n",
              "      <td>0</td>\n",
              "      <td>0</td>\n",
              "      <td>...</td>\n",
              "      <td>-0.355224</td>\n",
              "      <td>0.708733</td>\n",
              "      <td>2.363539</td>\n",
              "      <td>1.270466</td>\n",
              "      <td>0.173447</td>\n",
              "      <td>0.073289</td>\n",
              "      <td>-0.056901</td>\n",
              "      <td>-0.316033</td>\n",
              "      <td>0</td>\n",
              "      <td>-0.367024</td>\n",
              "    </tr>\n",
              "    <tr>\n",
              "      <th>4</th>\n",
              "      <td>0</td>\n",
              "      <td>0</td>\n",
              "      <td>1</td>\n",
              "      <td>0</td>\n",
              "      <td>-0.419940</td>\n",
              "      <td>2.185643</td>\n",
              "      <td>-2.794584</td>\n",
              "      <td>1</td>\n",
              "      <td>0</td>\n",
              "      <td>0</td>\n",
              "      <td>...</td>\n",
              "      <td>-0.448449</td>\n",
              "      <td>-0.085923</td>\n",
              "      <td>1.301811</td>\n",
              "      <td>-0.581580</td>\n",
              "      <td>-0.703218</td>\n",
              "      <td>-0.551669</td>\n",
              "      <td>-0.462252</td>\n",
              "      <td>4.198695</td>\n",
              "      <td>1</td>\n",
              "      <td>-0.611349</td>\n",
              "    </tr>\n",
              "    <tr>\n",
              "      <th>...</th>\n",
              "      <td>...</td>\n",
              "      <td>...</td>\n",
              "      <td>...</td>\n",
              "      <td>...</td>\n",
              "      <td>...</td>\n",
              "      <td>...</td>\n",
              "      <td>...</td>\n",
              "      <td>...</td>\n",
              "      <td>...</td>\n",
              "      <td>...</td>\n",
              "      <td>...</td>\n",
              "      <td>...</td>\n",
              "      <td>...</td>\n",
              "      <td>...</td>\n",
              "      <td>...</td>\n",
              "      <td>...</td>\n",
              "      <td>...</td>\n",
              "      <td>...</td>\n",
              "      <td>...</td>\n",
              "      <td>...</td>\n",
              "      <td>...</td>\n",
              "    </tr>\n",
              "    <tr>\n",
              "      <th>2489</th>\n",
              "      <td>0</td>\n",
              "      <td>0</td>\n",
              "      <td>1</td>\n",
              "      <td>1</td>\n",
              "      <td>1.085903</td>\n",
              "      <td>-1.050328</td>\n",
              "      <td>-2.271805</td>\n",
              "      <td>0</td>\n",
              "      <td>0</td>\n",
              "      <td>0</td>\n",
              "      <td>...</td>\n",
              "      <td>-1.619901</td>\n",
              "      <td>-0.284587</td>\n",
              "      <td>0.070823</td>\n",
              "      <td>-0.272906</td>\n",
              "      <td>-0.914696</td>\n",
              "      <td>-1.240399</td>\n",
              "      <td>0.214426</td>\n",
              "      <td>-0.316033</td>\n",
              "      <td>1</td>\n",
              "      <td>-0.367024</td>\n",
              "    </tr>\n",
              "    <tr>\n",
              "      <th>2490</th>\n",
              "      <td>0</td>\n",
              "      <td>1</td>\n",
              "      <td>0</td>\n",
              "      <td>1</td>\n",
              "      <td>0.997584</td>\n",
              "      <td>0.028329</td>\n",
              "      <td>-0.180688</td>\n",
              "      <td>0</td>\n",
              "      <td>1</td>\n",
              "      <td>0</td>\n",
              "      <td>...</td>\n",
              "      <td>-1.215274</td>\n",
              "      <td>-0.284587</td>\n",
              "      <td>0.363182</td>\n",
              "      <td>0.035769</td>\n",
              "      <td>-0.315867</td>\n",
              "      <td>-0.888532</td>\n",
              "      <td>0.606873</td>\n",
              "      <td>0.687240</td>\n",
              "      <td>1</td>\n",
              "      <td>2.818595</td>\n",
              "    </tr>\n",
              "    <tr>\n",
              "      <th>2491</th>\n",
              "      <td>1</td>\n",
              "      <td>0</td>\n",
              "      <td>0</td>\n",
              "      <td>1</td>\n",
              "      <td>1.350861</td>\n",
              "      <td>-1.050328</td>\n",
              "      <td>0.603481</td>\n",
              "      <td>0</td>\n",
              "      <td>1</td>\n",
              "      <td>0</td>\n",
              "      <td>...</td>\n",
              "      <td>0.274703</td>\n",
              "      <td>-0.284587</td>\n",
              "      <td>0.932514</td>\n",
              "      <td>-0.272906</td>\n",
              "      <td>-0.344459</td>\n",
              "      <td>0.475423</td>\n",
              "      <td>-0.728706</td>\n",
              "      <td>-0.316033</td>\n",
              "      <td>1</td>\n",
              "      <td>-0.122699</td>\n",
              "    </tr>\n",
              "    <tr>\n",
              "      <th>2492</th>\n",
              "      <td>1</td>\n",
              "      <td>0</td>\n",
              "      <td>0</td>\n",
              "      <td>1</td>\n",
              "      <td>-1.590169</td>\n",
              "      <td>1.646315</td>\n",
              "      <td>0.342091</td>\n",
              "      <td>1</td>\n",
              "      <td>0</td>\n",
              "      <td>0</td>\n",
              "      <td>...</td>\n",
              "      <td>0.526364</td>\n",
              "      <td>-0.284587</td>\n",
              "      <td>1.194099</td>\n",
              "      <td>-0.272906</td>\n",
              "      <td>1.148839</td>\n",
              "      <td>0.540695</td>\n",
              "      <td>0.350878</td>\n",
              "      <td>-0.316033</td>\n",
              "      <td>1</td>\n",
              "      <td>-0.367024</td>\n",
              "    </tr>\n",
              "    <tr>\n",
              "      <th>2493</th>\n",
              "      <td>1</td>\n",
              "      <td>0</td>\n",
              "      <td>0</td>\n",
              "      <td>0</td>\n",
              "      <td>1.523083</td>\n",
              "      <td>-0.511000</td>\n",
              "      <td>-0.180688</td>\n",
              "      <td>1</td>\n",
              "      <td>0</td>\n",
              "      <td>0</td>\n",
              "      <td>...</td>\n",
              "      <td>-0.448449</td>\n",
              "      <td>-0.284587</td>\n",
              "      <td>-0.036889</td>\n",
              "      <td>1.579141</td>\n",
              "      <td>-0.769035</td>\n",
              "      <td>-1.180379</td>\n",
              "      <td>0.409269</td>\n",
              "      <td>-0.316033</td>\n",
              "      <td>1</td>\n",
              "      <td>-0.367024</td>\n",
              "    </tr>\n",
              "  </tbody>\n",
              "</table>\n",
              "<p>2494 rows × 21 columns</p>\n",
              "</div>"
            ],
            "text/plain": [
              "      white  black  hisp  female    age_mo    hhsize       edu  married  \\\n",
              "0         0      0     1       0 -1.833047  0.567657  0.342091        0   \n",
              "1         1      0     0       0 -1.095582 -0.511000  1.649039        1   \n",
              "2         1      0     0       1  1.408268 -1.050328  0.342091        0   \n",
              "3         0      0     1       0 -0.640738  0.567657 -0.964857        1   \n",
              "4         0      0     1       0 -0.419940  2.185643 -2.794584        1   \n",
              "...     ...    ...   ...     ...       ...       ...       ...      ...   \n",
              "2489      0      0     1       1  1.085903 -1.050328 -2.271805        0   \n",
              "2490      0      1     0       1  0.997584  0.028329 -0.180688        0   \n",
              "2491      1      0     0       1  1.350861 -1.050328  0.603481        0   \n",
              "2492      1      0     0       1 -1.590169  1.646315  0.342091        1   \n",
              "2493      1      0     0       0  1.523083 -0.511000 -0.180688        1   \n",
              "\n",
              "      widowed  divorced  ...    income    packyr       bmi     pulse  \\\n",
              "0           0         0  ... -0.906882 -0.284587 -0.544672  0.344443   \n",
              "1           0         0  ...  1.219966 -0.284587  0.055435 -0.272906   \n",
              "2           1         0  ... -1.881696 -0.284587 -1.529462 -0.890255   \n",
              "3           0         0  ... -0.355224  0.708733  2.363539  1.270466   \n",
              "4           0         0  ... -0.448449 -0.085923  1.301811 -0.581580   \n",
              "...       ...       ...  ...       ...       ...       ...       ...   \n",
              "2489        0         0  ... -1.619901 -0.284587  0.070823 -0.272906   \n",
              "2490        1         0  ... -1.215274 -0.284587  0.363182  0.035769   \n",
              "2491        1         0  ...  0.274703 -0.284587  0.932514 -0.272906   \n",
              "2492        0         0  ...  0.526364 -0.284587  1.194099 -0.272906   \n",
              "2493        0         0  ... -0.448449 -0.284587 -0.036889  1.579141   \n",
              "\n",
              "        sodium  potassium  r_sodipota   alcohol  insurance  together  \n",
              "0     1.135352   1.299198   -0.143503 -0.316033          0 -0.498583  \n",
              "1    -0.239260  -0.173543   -0.252051 -0.316033          1 -0.122699  \n",
              "2    -0.141613   0.867804   -0.736382 -0.316033          1  0.121625  \n",
              "3     0.173447   0.073289   -0.056901 -0.316033          0 -0.367024  \n",
              "4    -0.703218  -0.551669   -0.462252  4.198695          1 -0.611349  \n",
              "...        ...        ...         ...       ...        ...       ...  \n",
              "2489 -0.914696  -1.240399    0.214426 -0.316033          1 -0.367024  \n",
              "2490 -0.315867  -0.888532    0.606873  0.687240          1  2.818595  \n",
              "2491 -0.344459   0.475423   -0.728706 -0.316033          1 -0.122699  \n",
              "2492  1.148839   0.540695    0.350878 -0.316033          1 -0.367024  \n",
              "2493 -0.769035  -1.180379    0.409269 -0.316033          1 -0.367024  \n",
              "\n",
              "[2494 rows x 21 columns]"
            ]
          },
          "execution_count": 8,
          "metadata": {},
          "output_type": "execute_result"
        }
      ],
      "source": [
        "confounders"
      ]
    },
    {
      "attachments": {},
      "cell_type": "markdown",
      "metadata": {
        "id": "C576dWRsa3ad"
      },
      "source": [
        "## Specify Nuisance Function Models\n",
        "\n",
        "The next step is to specify models for the conditional expected outcome and propensity score"
      ]
    },
    {
      "cell_type": "code",
      "execution_count": 9,
      "metadata": {
        "colab": {
          "base_uri": "https://localhost:8080/"
        },
        "id": "qyOhSZRQRb8W",
        "outputId": "905a03a6-e8c0-4572-e3e0-6f195b6409ad"
      },
      "outputs": [
        {
          "name": "stdout",
          "output_type": "stream",
          "text": [
            "Test MSE of fit model 188.37465077057507\n",
            "Test MSE of no-covariate model 196.715556166321\n"
          ]
        }
      ],
      "source": [
        "# specify a model for the conditional expected outcome\n",
        "\n",
        "# make a function that returns a sklearn model for later use in k-folding\n",
        "def make_Q_model():\n",
        "#  return RandomForestRegressor(random_state=RANDOM_SEED, n_estimators=200, max_depth=None)\n",
        "  return GradientBoostingRegressor(random_state=RANDOM_SEED, n_estimators=200, max_depth=3)\n",
        "Q_model = make_Q_model()\n",
        "\n",
        "# Sanity check that chosen model actually improves test error\n",
        "# A real analysis should give substantial attention to model selection and validation \n",
        "\n",
        "X_w_treatment = confounders.copy()\n",
        "X_w_treatment[\"treatment\"] = treatment\n",
        "\n",
        "X_train, X_test, y_train, y_test = train_test_split(X_w_treatment, outcome, test_size=0.2)\n",
        "Q_model.fit(X_train, y_train)\n",
        "y_pred = Q_model.predict(X_test)\n",
        "\n",
        "test_mse=mean_squared_error(y_pred, y_test)\n",
        "print(f\"Test MSE of fit model {test_mse}\") \n",
        "baseline_mse=mean_squared_error(y_train.mean()*np.ones_like(y_test), y_test)\n",
        "print(f\"Test MSE of no-covariate model {baseline_mse}\")"
      ]
    },
    {
      "cell_type": "code",
      "execution_count": 10,
      "metadata": {
        "colab": {
          "base_uri": "https://localhost:8080/"
        },
        "id": "uq6eZEBXbsaI",
        "outputId": "2a544732-9c9c-4ec6-be9c-8ef28610365c"
      },
      "outputs": [
        {
          "name": "stdout",
          "output_type": "stream",
          "text": [
            "Test CE of fit model 0.4844169173325637\n",
            "Test CE of no-covariate model 0.6785695199678788\n"
          ]
        }
      ],
      "source": [
        "# specify a model for the propensity score\n",
        "\n",
        "def make_g_model():\n",
        "  return LogisticRegression(max_iter=1000)\n",
        "  # return RandomForestClassifier(n_estimators=100, max_depth=5)\n",
        "  # return GradientBoostingClassifier(n_estimators=200, max_depth=3)\n",
        "\n",
        "g_model = make_g_model()\n",
        "# Sanity check that chosen model actually improves test error\n",
        "# A real analysis should give substantial attention to model selection and validation \n",
        "\n",
        "X_train, X_test, a_train, a_test = train_test_split(confounders, treatment, test_size=0.2, stratify=treatment)\n",
        "g_model.fit(X_train, a_train)\n",
        "a_pred = g_model.predict_proba(X_test)[:,1]\n",
        "\n",
        "test_ce=log_loss(a_test, a_pred)\n",
        "print(f\"Test CE of fit model {test_ce}\") \n",
        "baseline_ce=log_loss(a_test, a_train.mean()*np.ones_like(a_test))\n",
        "print(f\"Test CE of no-covariate model {baseline_ce}\")"
      ]
    },
    {
      "attachments": {},
      "cell_type": "markdown",
      "metadata": {
        "id": "2RkvV_4_dFWo"
      },
      "source": [
        "## Use cross fitting to get get predicted outcomes and propensity scores for each unit"
      ]
    },
    {
      "cell_type": "code",
      "execution_count": 11,
      "metadata": {
        "id": "KA0AsEGJ_X3b"
      },
      "outputs": [],
      "source": [
        "# helper functions to implement the cross fitting\n",
        "\n",
        "def treatment_k_fold_fit_and_predict(make_model, X:pd.DataFrame, A:np.array, n_splits:int):\n",
        "    \"\"\"\n",
        "    Implements K fold cross-fitting for the model predicting the treatment A. \n",
        "    That is, \n",
        "    1. Split data into K folds\n",
        "    2. For each fold j, the model is fit on the other K-1 folds\n",
        "    3. The fitted model is used to make predictions for each data point in fold j\n",
        "    Returns an array containing the predictions  \n",
        "\n",
        "    Args:\n",
        "    model: function that returns sklearn model (which implements fit and predict_prob)\n",
        "    X: dataframe of variables to adjust for\n",
        "    A: array of treatments\n",
        "    n_splits: number of splits to use\n",
        "    \"\"\"\n",
        "    predictions = np.full_like(A, np.nan, dtype=float)\n",
        "    kf = StratifiedKFold(n_splits=n_splits, shuffle=True, random_state=RANDOM_SEED)\n",
        "    \n",
        "    for train_index, test_index in kf.split(X, A):\n",
        "      X_train = X.loc[train_index]\n",
        "      A_train = A.loc[train_index]\n",
        "      g = make_model()\n",
        "      g.fit(X_train, A_train)\n",
        "\n",
        "      # get predictions for split\n",
        "      predictions[test_index] = g.predict_proba(X.loc[test_index])[:, 1]\n",
        "\n",
        "    assert np.isnan(predictions).sum() == 0\n",
        "    return predictions\n",
        "\n",
        "\n",
        "def outcome_k_fold_fit_and_predict(make_model, X:pd.DataFrame, y:np.array, A:np.array, n_splits:int, output_type:str):\n",
        "    \"\"\"\n",
        "    Implements K fold cross-fitting for the model predicting the outcome Y. \n",
        "    That is, \n",
        "    1. Split data into K folds\n",
        "    2. For each fold j, the model is fit on the other K-1 folds\n",
        "    3. The fitted model is used to make predictions for each data point in fold j\n",
        "    Returns two arrays containing the predictions for all units untreated, all units treated  \n",
        "\n",
        "    Args:\n",
        "    model: function that returns sklearn model (that implements fit and either predict_prob or predict)\n",
        "    X: dataframe of variables to adjust for\n",
        "    y: array of outcomes\n",
        "    A: array of treatments\n",
        "    n_splits: number of splits to use\n",
        "    output_type: type of outcome, \"binary\" or \"continuous\"\n",
        "\n",
        "    \"\"\"\n",
        "    predictions0 = np.full_like(A, np.nan, dtype=float)\n",
        "    predictions1 = np.full_like(y, np.nan, dtype=float)\n",
        "    if output_type == 'binary':\n",
        "      kf = StratifiedKFold(n_splits=n_splits, shuffle=True, random_state=RANDOM_SEED)\n",
        "    elif output_type == 'continuous':\n",
        "      kf = KFold(n_splits=n_splits, shuffle=True, random_state=RANDOM_SEED)\n",
        "\n",
        "    # include the treatment as input feature\n",
        "    X_w_treatment = X.copy()\n",
        "    X_w_treatment[\"A\"] = A\n",
        "\n",
        "    # for predicting effect under treatment / control status for each data point \n",
        "    X0 = X_w_treatment.copy()\n",
        "    X0[\"A\"] = 0\n",
        "    X1 = X_w_treatment.copy()\n",
        "    X1[\"A\"] = 1\n",
        "\n",
        "    \n",
        "    for train_index, test_index in kf.split(X_w_treatment, y):\n",
        "      X_train = X_w_treatment.loc[train_index]\n",
        "      y_train = y.loc[train_index]\n",
        "      q = make_model()\n",
        "      q.fit(X_train, y_train)\n",
        "\n",
        "      if output_type =='binary':\n",
        "        predictions0[test_index] = q.predict_proba(X0.loc[test_index])[:, 1]\n",
        "        predictions1[test_index] = q.predict_proba(X1.loc[test_index])[:, 1]\n",
        "      elif output_type == 'continuous':\n",
        "        predictions0[test_index] = q.predict(X0.loc[test_index])\n",
        "        predictions1[test_index] = q.predict(X1.loc[test_index])\n",
        "\n",
        "    assert np.isnan(predictions0).sum() == 0\n",
        "    assert np.isnan(predictions1).sum() == 0\n",
        "    return predictions0, predictions1"
      ]
    },
    {
      "cell_type": "code",
      "execution_count": 12,
      "metadata": {},
      "outputs": [],
      "source": [
        "# helper functions to implement the cross fitting\n",
        "\n",
        "def boot_treatment_k_fold_fit_and_predict(make_model, X:pd.DataFrame, A:np.array, n_splits:int):\n",
        "    \"\"\"\n",
        "    Implements K fold cross-fitting for the model predicting the treatment A. \n",
        "    That is, \n",
        "    1. Split data into K folds\n",
        "    2. For each fold j, the model is fit on the other K-1 folds\n",
        "    3. The fitted model is used to make predictions for each data point in fold j\n",
        "    Returns an array containing the predictions  \n",
        "\n",
        "    Args:\n",
        "    model: function that returns sklearn model (which implements fit and predict_prob)\n",
        "    X: dataframe of variables to adjust for\n",
        "    A: array of treatments\n",
        "    n_splits: number of splits to use\n",
        "    \"\"\"\n",
        "    predictions = np.full(fill_value = np.nan,shape=(100,A.size), dtype=float)\n",
        "    kf = StratifiedKFold(n_splits=n_splits, shuffle=True, random_state=RANDOM_SEED)\n",
        "    for i in np.arange(0,100):  \n",
        "      for train_index, test_index in kf.split(X, A):\n",
        "        boot_index = np.random.choice(train_index,size = train_index.size)\n",
        "        X_train = X.loc[boot_index]\n",
        "        A_train = A.loc[boot_index]\n",
        "        g = make_model()\n",
        "        g.fit(X_train, A_train)\n",
        "\n",
        "        # get predictions for split\n",
        "        predictions[i,test_index] = g.predict_proba(X.loc[test_index])[:, 1]\n",
        "      i+=1\n",
        "\n",
        "    assert np.isnan(predictions).sum() == 0\n",
        "    return predictions\n",
        "\n",
        "\n",
        "def boot_outcome_k_fold_fit_and_predict(make_model, X:pd.DataFrame, y:np.array, A:np.array, n_splits:int, output_type:str):\n",
        "    \"\"\"\n",
        "    Implements K fold cross-fitting for the model predicting the outcome Y. \n",
        "    That is, \n",
        "    1. Split data into K folds\n",
        "    2. For each fold j, the model is fit on the other K-1 folds\n",
        "    3. The fitted model is used to make predictions for each data point in fold j\n",
        "    Returns two arrays containing the predictions for all units untreated, all units treated  \n",
        "\n",
        "    Args:\n",
        "    model: function that returns sklearn model (that implements fit and either predict_prob or predict)\n",
        "    X: dataframe of variables to adjust for\n",
        "    y: array of outcomes\n",
        "    A: array of treatments\n",
        "    n_splits: number of splits to use\n",
        "    output_type: type of outcome, \"binary\" or \"continuous\"\n",
        "\n",
        "    \"\"\"\n",
        "    predictions0 = np.full(fill_value = np.nan,shape=(100,A.size), dtype=float)\n",
        "    predictions1 = np.full(fill_value = np.nan,shape=(100,y.size), dtype=float)\n",
        "    if output_type == 'binary':\n",
        "      kf = StratifiedKFold(n_splits=n_splits, shuffle=True, random_state=RANDOM_SEED)\n",
        "    elif output_type == 'continuous':\n",
        "      kf = KFold(n_splits=n_splits, shuffle=True, random_state=RANDOM_SEED)\n",
        "\n",
        "    # include the treatment as input feature\n",
        "    X_w_treatment = X.copy()\n",
        "    X_w_treatment[\"A\"] = A\n",
        "\n",
        "    # for predicting effect under treatment / control status for each data point \n",
        "    X0 = X_w_treatment.copy()\n",
        "    X0[\"A\"] = 0\n",
        "    X1 = X_w_treatment.copy()\n",
        "    X1[\"A\"] = 1\n",
        "\n",
        "    for i in np.arange(0,100):\n",
        "      for train_index, test_index in kf.split(X_w_treatment, y):\n",
        "        boot_index = np.random.choice(train_index,size = train_index.size)\n",
        "        X_train = X_w_treatment.loc[boot_index]\n",
        "        y_train = y.loc[boot_index]\n",
        "        q = make_model()\n",
        "        q.fit(X_train, y_train)\n",
        "\n",
        "        if output_type =='binary':\n",
        "          predictions0[i,test_index] = q.predict_proba(X0.loc[test_index])[:, 1]\n",
        "          predictions1[i,test_index] = q.predict_proba(X1.loc[test_index])[:, 1]\n",
        "        elif output_type == 'continuous':\n",
        "          predictions0[i,test_index] = q.predict(X0.loc[test_index])\n",
        "          predictions1[i,test_index] = q.predict(X1.loc[test_index])\n",
        "\n",
        "    assert np.isnan(predictions0).sum() == 0\n",
        "    assert np.isnan(predictions1).sum() == 0\n",
        "    return predictions0, predictions1"
      ]
    },
    {
      "cell_type": "code",
      "execution_count": 13,
      "metadata": {
        "id": "wVcE6pRQeMNf"
      },
      "outputs": [],
      "source": [
        "g = treatment_k_fold_fit_and_predict(make_g_model, X=confounders, A=treatment, n_splits=10)\n",
        "g_mat = boot_treatment_k_fold_fit_and_predict(make_g_model, X=confounders, A=treatment, n_splits=10)"
      ]
    },
    {
      "cell_type": "code",
      "execution_count": 14,
      "metadata": {
        "id": "GLEHlLLdWSh9"
      },
      "outputs": [],
      "source": [
        "Q0,Q1=outcome_k_fold_fit_and_predict(make_Q_model, X=confounders, y=outcome, A=treatment, n_splits=10, output_type=\"continuous\")\n",
        "Q0_mat,Q1_mat=boot_outcome_k_fold_fit_and_predict(make_Q_model, X=confounders, y=outcome, A=treatment, n_splits=10, output_type=\"continuous\")"
      ]
    },
    {
      "cell_type": "code",
      "execution_count": 17,
      "metadata": {
        "colab": {
          "base_uri": "https://localhost:8080/",
          "height": 203
        },
        "id": "_NVCV0q0g8wQ",
        "outputId": "9f4fb865-3b5f-4e46-f7a3-c343b1924e9e"
      },
      "outputs": [
        {
          "data": {
            "text/html": [
              "<div>\n",
              "<style scoped>\n",
              "    .dataframe tbody tr th:only-of-type {\n",
              "        vertical-align: middle;\n",
              "    }\n",
              "\n",
              "    .dataframe tbody tr th {\n",
              "        vertical-align: top;\n",
              "    }\n",
              "\n",
              "    .dataframe thead th {\n",
              "        text-align: right;\n",
              "    }\n",
              "</style>\n",
              "<table border=\"1\" class=\"dataframe\">\n",
              "  <thead>\n",
              "    <tr style=\"text-align: right;\">\n",
              "      <th></th>\n",
              "      <th>g</th>\n",
              "      <th>Q0</th>\n",
              "      <th>Q1</th>\n",
              "      <th>A</th>\n",
              "      <th>Y</th>\n",
              "    </tr>\n",
              "  </thead>\n",
              "  <tbody>\n",
              "    <tr>\n",
              "      <th>0</th>\n",
              "      <td>0.009122</td>\n",
              "      <td>69.928410</td>\n",
              "      <td>72.999765</td>\n",
              "      <td>0</td>\n",
              "      <td>60</td>\n",
              "    </tr>\n",
              "    <tr>\n",
              "      <th>1</th>\n",
              "      <td>0.153910</td>\n",
              "      <td>84.867654</td>\n",
              "      <td>90.188475</td>\n",
              "      <td>0</td>\n",
              "      <td>94</td>\n",
              "    </tr>\n",
              "    <tr>\n",
              "      <th>2</th>\n",
              "      <td>0.777998</td>\n",
              "      <td>73.341629</td>\n",
              "      <td>67.400933</td>\n",
              "      <td>1</td>\n",
              "      <td>70</td>\n",
              "    </tr>\n",
              "    <tr>\n",
              "      <th>3</th>\n",
              "      <td>0.113439</td>\n",
              "      <td>83.498759</td>\n",
              "      <td>82.388082</td>\n",
              "      <td>0</td>\n",
              "      <td>84</td>\n",
              "    </tr>\n",
              "    <tr>\n",
              "      <th>4</th>\n",
              "      <td>0.221874</td>\n",
              "      <td>87.987430</td>\n",
              "      <td>86.811025</td>\n",
              "      <td>0</td>\n",
              "      <td>80</td>\n",
              "    </tr>\n",
              "  </tbody>\n",
              "</table>\n",
              "</div>"
            ],
            "text/plain": [
              "          g         Q0         Q1  A   Y\n",
              "0  0.009122  69.928410  72.999765  0  60\n",
              "1  0.153910  84.867654  90.188475  0  94\n",
              "2  0.777998  73.341629  67.400933  1  70\n",
              "3  0.113439  83.498759  82.388082  0  84\n",
              "4  0.221874  87.987430  86.811025  0  80"
            ]
          },
          "execution_count": 17,
          "metadata": {},
          "output_type": "execute_result"
        }
      ],
      "source": [
        "data_and_nuisance_estimates = pd.DataFrame({'g': g, 'Q0': Q0, 'Q1': Q1, 'A': treatment, 'Y': outcome})\n",
        "data_and_nuisance_estimates.head()"
      ]
    },
    {
      "attachments": {},
      "cell_type": "markdown",
      "metadata": {
        "id": "VNhM7URdgzQB"
      },
      "source": [
        "## Combine predicted values and data into estimate of ATE"
      ]
    },
    {
      "cell_type": "code",
      "execution_count": 19,
      "metadata": {
        "id": "O_F5r0SSkzzK"
      },
      "outputs": [],
      "source": [
        "def ate_aiptw(Q0, Q1, g, A, Y, prob_t=None):\n",
        "  \"\"\"\n",
        "  # Double ML estimator for the ATE\n",
        "  \"\"\"\n",
        "\n",
        "  tau_hat = (Q1 - Q0 + A*(Y-Q1)/g - (1-A)*(Y-Q0)/(1-g)).mean()\n",
        "  \n",
        "  scores = Q1 - Q0 + A*(Y-Q1)/g - (1-A)*(Y-Q0)/(1-g) - tau_hat\n",
        "  n = Y.shape[0] # number of observations\n",
        "  std_hat = np.std(scores) / np.sqrt(n)\n",
        "\n",
        "  return tau_hat, std_hat\n"
      ]
    },
    {
      "cell_type": "code",
      "execution_count": 20,
      "metadata": {
        "colab": {
          "base_uri": "https://localhost:8080/"
        },
        "id": "SjDj0F9Bm9uq",
        "outputId": "e3a2f168-1bf8-47fd-f046-dd05390bf0d5"
      },
      "outputs": [
        {
          "name": "stdout",
          "output_type": "stream",
          "text": [
            "The estimate is -2.6682535341396294 pm 1.5225487541840108\n"
          ]
        }
      ],
      "source": [
        "tau_hat, std_hat = ate_aiptw(**data_and_nuisance_estimates)\n",
        "print(f\"The estimate is {tau_hat} pm {1.96*std_hat}\")"
      ]
    },
    {
      "attachments": {},
      "cell_type": "markdown",
      "metadata": {
        "id": "L_GUa-5vMmL4"
      },
      "source": [
        "#Sensitivity Analysis\n",
        "\n",
        "We found an average treatment effect of diastolic blood pressure medication of about 2, significant at the 0.95 level. We'd now conduct some analysis to decide how sensitive this conclusions is to possible unobserved confounding."
      ]
    },
    {
      "cell_type": "code",
      "execution_count": 62,
      "metadata": {
        "id": "zEv_RlkUNQZ9"
      },
      "outputs": [],
      "source": [
        "# the first step is to choose a level of bias that would undermine the qualitative conclusion of the study\n",
        "# we'll go with the nominal effect\n",
        "target_bias = 2.00 # note: bias is specified as an absolute number"
      ]
    },
    {
      "attachments": {},
      "cell_type": "markdown",
      "metadata": {
        "id": "bDeSqyvvN3mg"
      },
      "source": [
        "## Compute influence strength of covariates\n",
        "Our task is to assess whether it's plausible that an unobserved confounder could be strong enough to induce a bias of 2 or more. To make that easier, we'd like to know how strong the observed confounders are. Austen plots computes these reference strengths by seeing how much model performance degrades when the covariates are removed. Accordingly, we refit the models with each (group of) reference covariate removed.  "
      ]
    },
    {
      "cell_type": "code",
      "execution_count": 63,
      "metadata": {
        "id": "b_51ei-JOIrn"
      },
      "outputs": [],
      "source": [
        "# First, lets define the groups of covariates we'll measure the strength of.\n",
        "# Note: it's important to group the covariates into meaningful groups, because strength is measured conditional on all remaining covariates\n",
        "# E.g., if we remove only \"black\" (and not \"hispanic, white\") then we will measure no effect, because we can infer the removed variable from the remaining ones\n",
        "\n",
        "covariate_groups = {\n",
        "    'socioeconomic': ['white', 'black', 'hisp' , 'hhsize', 'edu',\n",
        "       'married', 'widowed', 'divorced', 'separated', 'income', 'packyr', 'alcohol',\n",
        "       'insurance', 'together'],\n",
        "    'sex': ['female'],\n",
        "    'age': ['age_mo'],\n",
        "    'health': ['bmi', 'pulse', 'sodium', 'potassium', 'r_sodipota']}"
      ]
    },
    {
      "cell_type": "code",
      "execution_count": 64,
      "metadata": {
        "id": "eLskfBqCQlwZ"
      },
      "outputs": [
        {
          "data": {
            "text/plain": [
              "{'socioeconomic':              g         Q0         Q1  A    Y\n",
              " 0     0.030190  72.932363  74.708597  0   60\n",
              " 1     0.122528  84.151703  91.029151  0   94\n",
              " 2     0.761602  71.435298  64.126075  1   70\n",
              " 3     0.299809  86.484375  85.928022  0   84\n",
              " 4     0.393879  86.159649  86.530069  0   80\n",
              " ...        ...        ...        ... ..  ...\n",
              " 2489  0.743081  80.459667  72.031279  1   80\n",
              " 2490  0.726350  80.706126  75.962636  1  106\n",
              " 2491  0.849262  76.639820  69.726015  1   68\n",
              " 2492  0.075720  78.740395  82.019923  0   80\n",
              " 2493  0.794819  81.847891  71.052381  1   78\n",
              " \n",
              " [2494 rows x 5 columns],\n",
              " 'sex':              g         Q0         Q1  A    Y\n",
              " 0     0.009231  64.510274  67.488891  0   60\n",
              " 1     0.152344  82.277877  88.618022  0   94\n",
              " 2     0.793990  73.811931  68.967654  1   70\n",
              " 3     0.098167  77.655535  76.855154  0   84\n",
              " 4     0.245508  85.447790  84.660255  0   80\n",
              " ...        ...        ...        ... ..  ...\n",
              " 2489  0.558394  80.211457  77.066147  1   80\n",
              " 2490  0.746461  80.401127  76.583692  1  106\n",
              " 2491  0.840490  78.563325  72.552908  1   68\n",
              " 2492  0.085797  77.297681  79.277939  0   80\n",
              " 2493  0.803520  77.170373  70.774914  1   78\n",
              " \n",
              " [2494 rows x 5 columns],\n",
              " 'age':              g         Q0         Q1  A    Y\n",
              " 0     0.024767  77.104737  77.173140  0   60\n",
              " 1     0.519692  84.203720  80.106206  0   94\n",
              " 2     0.747825  71.733570  67.542969  1   70\n",
              " 3     0.108399  80.066640  80.022200  0   84\n",
              " 4     0.299733  90.870225  87.157545  0   80\n",
              " ...        ...        ...        ... ..  ...\n",
              " 2489  0.430977  79.500262  77.126446  1   80\n",
              " 2490  0.524372  73.550956  72.100613  1  106\n",
              " 2491  0.732521  78.866946  77.241789  1   68\n",
              " 2492  0.296308  81.325921  79.322521  0   80\n",
              " 2493  0.582999  83.823115  78.158921  1   78\n",
              " \n",
              " [2494 rows x 5 columns],\n",
              " 'health':              g         Q0         Q1  A    Y\n",
              " 0     0.013393  70.823922  74.959676  0   60\n",
              " 1     0.142430  84.166473  89.787109  0   94\n",
              " 2     0.817989  77.865648  71.848722  1   70\n",
              " 3     0.066048  83.033021  82.392336  0   84\n",
              " 4     0.155232  89.092478  89.267349  0   80\n",
              " ...        ...        ...        ... ..  ...\n",
              " 2489  0.549510  81.229570  76.662777  1   80\n",
              " 2490  0.722013  81.163667  75.847573  1  106\n",
              " 2491  0.764233  78.021049  69.273305  1   68\n",
              " 2492  0.072204  71.454253  73.323137  0   80\n",
              " 2493  0.843714  76.420282  68.872561  1   78\n",
              " \n",
              " [2494 rows x 5 columns]}"
            ]
          },
          "execution_count": 64,
          "metadata": {},
          "output_type": "execute_result"
        }
      ],
      "source": [
        "# For each covariate group, refit the models without using that group\n",
        "nuisance_estimates = {}\n",
        "for group, covs in covariate_groups.items():\n",
        "  remaining_confounders = confounders.drop(columns=covs)\n",
        "\n",
        "  g = treatment_k_fold_fit_and_predict(make_g_model, X=remaining_confounders, A=treatment, n_splits=5)\n",
        "  Q0, Q1 = outcome_k_fold_fit_and_predict(make_Q_model, X=remaining_confounders, y=outcome, A=treatment, n_splits=5, output_type=\"continuous\")\n",
        "\n",
        "  data_and_nuisance_estimates = pd.DataFrame({'g': g, 'Q0': Q0, 'Q1': Q1, 'A': treatment, 'Y': outcome})\n",
        "  nuisance_estimates[group] = data_and_nuisance_estimates"
      ]
    },
    {
      "cell_type": "code",
      "execution_count": 36,
      "metadata": {},
      "outputs": [
        {
          "data": {
            "text/html": [
              "<div>\n",
              "<style scoped>\n",
              "    .dataframe tbody tr th:only-of-type {\n",
              "        vertical-align: middle;\n",
              "    }\n",
              "\n",
              "    .dataframe tbody tr th {\n",
              "        vertical-align: top;\n",
              "    }\n",
              "\n",
              "    .dataframe thead th {\n",
              "        text-align: right;\n",
              "    }\n",
              "</style>\n",
              "<table border=\"1\" class=\"dataframe\">\n",
              "  <thead>\n",
              "    <tr style=\"text-align: right;\">\n",
              "      <th></th>\n",
              "      <th>g</th>\n",
              "      <th>Q0</th>\n",
              "      <th>Q1</th>\n",
              "      <th>A</th>\n",
              "      <th>Y</th>\n",
              "    </tr>\n",
              "  </thead>\n",
              "  <tbody>\n",
              "    <tr>\n",
              "      <th>0</th>\n",
              "      <td>0.013393</td>\n",
              "      <td>70.823922</td>\n",
              "      <td>74.959676</td>\n",
              "      <td>0</td>\n",
              "      <td>60</td>\n",
              "    </tr>\n",
              "    <tr>\n",
              "      <th>1</th>\n",
              "      <td>0.142430</td>\n",
              "      <td>84.166473</td>\n",
              "      <td>89.787109</td>\n",
              "      <td>0</td>\n",
              "      <td>94</td>\n",
              "    </tr>\n",
              "    <tr>\n",
              "      <th>2</th>\n",
              "      <td>0.817989</td>\n",
              "      <td>77.865648</td>\n",
              "      <td>71.848722</td>\n",
              "      <td>1</td>\n",
              "      <td>70</td>\n",
              "    </tr>\n",
              "    <tr>\n",
              "      <th>3</th>\n",
              "      <td>0.066048</td>\n",
              "      <td>83.033021</td>\n",
              "      <td>82.392336</td>\n",
              "      <td>0</td>\n",
              "      <td>84</td>\n",
              "    </tr>\n",
              "    <tr>\n",
              "      <th>4</th>\n",
              "      <td>0.155232</td>\n",
              "      <td>89.092478</td>\n",
              "      <td>89.267349</td>\n",
              "      <td>0</td>\n",
              "      <td>80</td>\n",
              "    </tr>\n",
              "    <tr>\n",
              "      <th>...</th>\n",
              "      <td>...</td>\n",
              "      <td>...</td>\n",
              "      <td>...</td>\n",
              "      <td>...</td>\n",
              "      <td>...</td>\n",
              "    </tr>\n",
              "    <tr>\n",
              "      <th>2489</th>\n",
              "      <td>0.549510</td>\n",
              "      <td>81.229570</td>\n",
              "      <td>76.662777</td>\n",
              "      <td>1</td>\n",
              "      <td>80</td>\n",
              "    </tr>\n",
              "    <tr>\n",
              "      <th>2490</th>\n",
              "      <td>0.722013</td>\n",
              "      <td>81.163667</td>\n",
              "      <td>75.847573</td>\n",
              "      <td>1</td>\n",
              "      <td>106</td>\n",
              "    </tr>\n",
              "    <tr>\n",
              "      <th>2491</th>\n",
              "      <td>0.764233</td>\n",
              "      <td>78.021049</td>\n",
              "      <td>69.273305</td>\n",
              "      <td>1</td>\n",
              "      <td>68</td>\n",
              "    </tr>\n",
              "    <tr>\n",
              "      <th>2492</th>\n",
              "      <td>0.072204</td>\n",
              "      <td>71.454253</td>\n",
              "      <td>73.323137</td>\n",
              "      <td>0</td>\n",
              "      <td>80</td>\n",
              "    </tr>\n",
              "    <tr>\n",
              "      <th>2493</th>\n",
              "      <td>0.843714</td>\n",
              "      <td>76.420282</td>\n",
              "      <td>68.872561</td>\n",
              "      <td>1</td>\n",
              "      <td>78</td>\n",
              "    </tr>\n",
              "  </tbody>\n",
              "</table>\n",
              "<p>2494 rows × 5 columns</p>\n",
              "</div>"
            ],
            "text/plain": [
              "             g         Q0         Q1  A    Y\n",
              "0     0.013393  70.823922  74.959676  0   60\n",
              "1     0.142430  84.166473  89.787109  0   94\n",
              "2     0.817989  77.865648  71.848722  1   70\n",
              "3     0.066048  83.033021  82.392336  0   84\n",
              "4     0.155232  89.092478  89.267349  0   80\n",
              "...        ...        ...        ... ..  ...\n",
              "2489  0.549510  81.229570  76.662777  1   80\n",
              "2490  0.722013  81.163667  75.847573  1  106\n",
              "2491  0.764233  78.021049  69.273305  1   68\n",
              "2492  0.072204  71.454253  73.323137  0   80\n",
              "2493  0.843714  76.420282  68.872561  1   78\n",
              "\n",
              "[2494 rows x 5 columns]"
            ]
          },
          "execution_count": 36,
          "metadata": {},
          "output_type": "execute_result"
        }
      ],
      "source": [
        "data_and_nuisance_estimates"
      ]
    },
    {
      "attachments": {},
      "cell_type": "markdown",
      "metadata": {
        "id": "73aTyanbTihM"
      },
      "source": [
        "## Save computed estimates as CSVs\n",
        "The Austen plot code expects the nuisance function estimates to be provided as csvs with columns 'g', 'Q', 't', 'y'"
      ]
    },
    {
      "cell_type": "code",
      "execution_count": 65,
      "metadata": {
        "id": "Am4bdBMGXhqr"
      },
      "outputs": [],
      "source": [
        "data_and_nuisance_path = 'data_and_nuisance_estimates.csv'\n",
        "covariate_dir_path = 'covariates/'"
      ]
    },
    {
      "cell_type": "code",
      "execution_count": 66,
      "metadata": {
        "id": "YJ-QU3gXSqiz"
      },
      "outputs": [],
      "source": [
        "def _convert_to_austen_format(nuisance_estimate_df: pd.DataFrame):\n",
        "  austen_df = pd.DataFrame()\n",
        "  austen_df['y']=nuisance_estimate_df['Y']\n",
        "  austen_df['t']=nuisance_estimate_df['A']\n",
        "  austen_df['g']=nuisance_estimate_df['g']\n",
        "  A = nuisance_estimate_df['A']\n",
        "  austen_df['Q']=A*nuisance_estimate_df['Q1'] + (1-A)*nuisance_estimate_df['Q0'] # use Q1 when A=1, and Q0 when A=0\n",
        "\n",
        "  return austen_df"
      ]
    },
    {
      "cell_type": "code",
      "execution_count": 67,
      "metadata": {
        "id": "31BWqKXmVAQr"
      },
      "outputs": [],
      "source": [
        "austen_data_and_nuisance = _convert_to_austen_format(data_and_nuisance_estimates)\n",
        "austen_data_and_nuisance.to_csv(data_and_nuisance_path, index=False)\n",
        "\n",
        "pathlib.Path(covariate_dir_path).mkdir(exist_ok=True)\n",
        "for group, nuisance_estimate in nuisance_estimates.items():\n",
        "  austen_nuisance_estimate = _convert_to_austen_format(nuisance_estimate)\n",
        "  austen_nuisance_estimate.to_csv(os.path.join(covariate_dir_path,group+\".csv\"), index=False)"
      ]
    },
    {
      "attachments": {},
      "cell_type": "markdown",
      "metadata": {
        "id": "C84zSBeIVe0L"
      },
      "source": [
        "## Make plots"
      ]
    },
    {
      "cell_type": "code",
      "execution_count": 68,
      "metadata": {
        "id": "2C0cixtvVhmD"
      },
      "outputs": [],
      "source": [
        "ap = AustenPlot(data_and_nuisance_path, covariate_dir_path)"
      ]
    },
    {
      "cell_type": "code",
      "execution_count": null,
      "metadata": {
        "colab": {
          "base_uri": "https://localhost:8080/"
        },
        "id": "JFgN5L6YW0oF",
        "outputId": "9bb60caf-daef-4ba3-8ab2-8a4f6d3b43eb"
      },
      "outputs": [],
      "source": [
        "p, plot_coords, variable_coords = ap.fit(bias=target_bias) # recall we set target_bias=2.0"
      ]
    },
    {
      "cell_type": "code",
      "execution_count": 70,
      "metadata": {
        "colab": {
          "base_uri": "https://localhost:8080/",
          "height": 396
        },
        "id": "lfPaV4IDckdS",
        "outputId": "56a1085c-cc7d-45e7-d61b-832125c05857"
      },
      "outputs": [
        {
          "data": {
            "image/png": "[encoded data removed]",
            "text/plain": [
              "<Figure size 350x350 with 1 Axes>"
            ]
          },
          "metadata": {
            "image/png": {
              "height": 350,
              "width": 350
            }
          },
          "output_type": "display_data"
        },
        {
          "data": {
            "text/plain": [
              "<Figure Size: (350 x 350)>"
            ]
          },
          "execution_count": 70,
          "metadata": {},
          "output_type": "execute_result"
        }
      ],
      "source": [
        "p"
      ]
    }
  ],
  "metadata": {
    "colab": {
      "collapsed_sections": [],
      "include_colab_link": true,
      "name": "Sensitivity_Analysis.ipynb",
      "provenance": []
    },
    "kernelspec": {
      "display_name": "Python 3",
      "name": "python3"
    },
    "language_info": {
      "codemirror_mode": {
        "name": "ipython",
        "version": 3
      },
      "file_extension": ".py",
      "mimetype": "text/x-python",
      "name": "python",
      "nbconvert_exporter": "python",
      "pygments_lexer": "ipython3",
      "version": "3.9.12"
    }
  },
  "nbformat": 4,
  "nbformat_minor": 0
}
